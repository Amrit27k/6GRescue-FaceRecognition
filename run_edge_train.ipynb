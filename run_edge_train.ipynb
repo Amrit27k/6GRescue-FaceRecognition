{
 "cells": [
  {
   "cell_type": "code",
   "execution_count": 1,
   "id": "5756fd9d-3872-42d7-9cc4-fe85bacf7ea2",
   "metadata": {},
   "outputs": [],
   "source": [
    "from edge_training import EdgeFaceRecognitionTrainer\n",
    "\n",
    "# "
   ]
  },
  {
   "cell_type": "code",
   "execution_count": 2,
   "id": "8f8a66ed-7782-4a33-97ea-6cd16dba9283",
   "metadata": {},
   "outputs": [
    {
     "name": "stdout",
     "output_type": "stream",
     "text": [
      "Using device: cpu\n"
     ]
    },
    {
     "name": "stderr",
     "output_type": "stream",
     "text": [
      "2025/06/02 14:37:34 INFO mlflow.store.db.utils: Creating initial MLflow database tables...\n",
      "2025/06/02 14:37:34 INFO mlflow.store.db.utils: Updating database tables\n",
      "INFO  [alembic.runtime.migration] Context impl SQLiteImpl.\n",
      "INFO  [alembic.runtime.migration] Will assume non-transactional DDL.\n",
      "INFO  [alembic.runtime.migration] Context impl SQLiteImpl.\n",
      "INFO  [alembic.runtime.migration] Will assume non-transactional DDL.\n"
     ]
    },
    {
     "name": "stdout",
     "output_type": "stream",
     "text": [
      "Loading YOLOv8 model...\n",
      "YOLOv8 not available: [Errno 2] No such file or directory: 'yolov8n-face.pt'\n",
      "Falling back to YOLOv5...\n"
     ]
    },
    {
     "name": "stderr",
     "output_type": "stream",
     "text": [
      "/opt/tljh/user/lib/python3.12/site-packages/torch/hub.py:330: UserWarning: You are about to download and run code from an untrusted repository. In a future release, this won't be allowed. To add the repository to your trusted list, change the command to {calling_fn}(..., trust_repo=False) and a command prompt will appear asking for an explicit confirmation of trust, or load(..., trust_repo=True), which will assume that the prompt is to be answered with 'yes'. You can also use load(..., trust_repo='check') which will only prompt for confirmation if the repo is not already trusted. This will eventually be the default behaviour\n",
      "  warnings.warn(\n"
     ]
    },
    {
     "name": "stdout",
     "output_type": "stream",
     "text": [
      "Downloading: \"https://github.com/ultralytics/yolov5/zipball/master\" to /home/jupyter-akumar/.cache/torch/hub/master.zip\n"
     ]
    },
    {
     "name": "stderr",
     "output_type": "stream",
     "text": [
      "YOLOv5 🚀 2025-6-2 Python-3.12.6 torch-2.7.0+cu126 CPU\n",
      "\n",
      "Downloading https://github.com/ultralytics/yolov5/releases/download/v7.0/yolov5s.pt to yolov5s.pt...\n",
      "100%|██████████| 14.1M/14.1M [00:00<00:00, 53.9MB/s]\n",
      "\n",
      "Fusing layers... \n",
      "YOLOv5s summary: 213 layers, 7225885 parameters, 0 gradients, 16.4 GFLOPs\n",
      "Adding AutoShape... \n",
      "Using cache found in /home/jupyter-akumar/.cache/torch/hub/pytorch_vision_v0.10.0\n"
     ]
    },
    {
     "name": "stdout",
     "output_type": "stream",
     "text": [
      "Loaded YOLOv5 model successfully!\n",
      "Loading feature extraction model...\n",
      "Downloading: \"https://download.pytorch.org/models/mobilenet_v3_small-047dcff4.pth\" to /home/jupyter-akumar/.cache/torch/hub/checkpoints/mobilenet_v3_small-047dcff4.pth\n"
     ]
    },
    {
     "name": "stderr",
     "output_type": "stream",
     "text": [
      "100%|██████████| 9.83M/9.83M [00:00<00:00, 48.0MB/s]\n",
      "2025/06/02 14:37:39 INFO mlflow.store.db.utils: Creating initial MLflow database tables...\n",
      "2025/06/02 14:37:39 INFO mlflow.store.db.utils: Updating database tables\n",
      "INFO  [alembic.runtime.migration] Context impl SQLiteImpl.\n",
      "INFO  [alembic.runtime.migration] Will assume non-transactional DDL.\n",
      "/home/jupyter-akumar/.cache/torch/hub/ultralytics_yolov5_master/models/common.py:906: FutureWarning: `torch.cuda.amp.autocast(args...)` is deprecated. Please use `torch.amp.autocast('cuda', args...)` instead.\n",
      "  with amp.autocast(autocast):\n"
     ]
    },
    {
     "name": "stdout",
     "output_type": "stream",
     "text": [
      "Feature extraction model loaded successfully!\n"
     ]
    },
    {
     "name": "stderr",
     "output_type": "stream",
     "text": [
      "/home/jupyter-akumar/.cache/torch/hub/ultralytics_yolov5_master/models/common.py:906: FutureWarning: `torch.cuda.amp.autocast(args...)` is deprecated. Please use `torch.amp.autocast('cuda', args...)` instead.\n",
      "  with amp.autocast(autocast):\n",
      "/home/jupyter-akumar/.cache/torch/hub/ultralytics_yolov5_master/models/common.py:906: FutureWarning: `torch.cuda.amp.autocast(args...)` is deprecated. Please use `torch.amp.autocast('cuda', args...)` instead.\n",
      "  with amp.autocast(autocast):\n",
      "/home/jupyter-akumar/.cache/torch/hub/ultralytics_yolov5_master/models/common.py:906: FutureWarning: `torch.cuda.amp.autocast(args...)` is deprecated. Please use `torch.amp.autocast('cuda', args...)` instead.\n",
      "  with amp.autocast(autocast):\n",
      "/home/jupyter-akumar/.cache/torch/hub/ultralytics_yolov5_master/models/common.py:906: FutureWarning: `torch.cuda.amp.autocast(args...)` is deprecated. Please use `torch.amp.autocast('cuda', args...)` instead.\n",
      "  with amp.autocast(autocast):\n",
      "\u001b[31m2025/06/02 14:37:45 WARNING mlflow.models.model: Model logged without a signature and input example. Please set `input_example` parameter when logging the model to auto infer the model signature.\u001b[0m\n"
     ]
    },
    {
     "name": "stdout",
     "output_type": "stream",
     "text": [
      "Successfully trained model for amrit with 5 examples\n"
     ]
    },
    {
     "name": "stderr",
     "output_type": "stream",
     "text": [
      "Successfully registered model 'face_recognition_model'.\n",
      "Created version '1' of model 'face_recognition_model'.\n"
     ]
    }
   ],
   "source": [
    "# Initialize trainer\n",
    "trainer = EdgeFaceRecognitionTrainer()\n",
    "\n",
    "# Register a person\n",
    "person_name = \"amrit\"\n",
    "image_paths = [f\"images/{person_name}/{person_name}_1.jpg\", f\"images/{person_name}/{person_name}_2.jpg\", f\"images/{person_name}/{person_name}_3.jpg\", f\"images/{person_name}/{person_name}_4.jpg\", f\"images/{person_name}/{person_name}_5.jpg\"]\n",
    "success, person_id = trainer.train_few_shot_model(person_name, image_paths)"
   ]
  },
  {
   "cell_type": "code",
   "execution_count": 3,
   "id": "a0729262-3507-4a7b-8518-6ecc09ff4dd9",
   "metadata": {},
   "outputs": [
    {
     "name": "stdout",
     "output_type": "stream",
     "text": [
      "Model Evaluation: Accuracy=1.00, Unknown Rate=0.00\n"
     ]
    },
    {
     "name": "stderr",
     "output_type": "stream",
     "text": [
      "/home/jupyter-akumar/.cache/torch/hub/ultralytics_yolov5_master/models/common.py:906: FutureWarning: `torch.cuda.amp.autocast(args...)` is deprecated. Please use `torch.amp.autocast('cuda', args...)` instead.\n",
      "  with amp.autocast(autocast):\n"
     ]
    }
   ],
   "source": [
    "test_images = [\"test/amrit_test.jpg\"]\n",
    "accuracy = trainer.evaluate_model(test_images)"
   ]
  },
  {
   "cell_type": "code",
   "execution_count": 4,
   "id": "ea3075af-a274-40b8-91f2-ee1042049b0f",
   "metadata": {},
   "outputs": [
    {
     "name": "stdout",
     "output_type": "stream",
     "text": [
      "Deploying model version 1 to Jetson Nano...\n",
      "Deployment package created in jetson_deployment\n",
      "Run './deploy.sh' from the jetson_deployment directory to deploy to Jetson\n"
     ]
    }
   ],
   "source": [
    "trainer.deploy_to_jetson(jetson_ip=\"192.168.2.100\")"
   ]
  },
  {
   "cell_type": "code",
   "execution_count": 5,
   "id": "21567c6f-a48c-4030-9a70-11c6c86ca7f9",
   "metadata": {},
   "outputs": [
    {
     "name": "stdout",
     "output_type": "stream",
     "text": [
      "/bin/bash: line 1: ./deploy.sh: No such file or directory\n"
     ]
    }
   ],
   "source": [
    "!cd jetson_deployment\n"
   ]
  },
  {
   "cell_type": "code",
   "execution_count": 7,
   "id": "17d08714-a3d9-4767-9340-62a1e6efa76b",
   "metadata": {},
   "outputs": [
    {
     "name": "stdout",
     "output_type": "stream",
     "text": [
      "edge_training.py   mlflow_config.py  mlruns\t    test\n",
      "few_shot_examples  mlflow_edge.db    mlruns_jetson  Untitled.ipynb\n",
      "images\t\t   mlflow_jetson.db  models\t    yolov5s.pt\n",
      "jetson_deployment  mlflow_ui.sh      __pycache__\n"
     ]
    }
   ],
   "source": [
    "!ls"
   ]
  },
  {
   "cell_type": "code",
   "execution_count": 8,
   "id": "377bb87a-d26d-48d2-9d24-4f86210028a8",
   "metadata": {},
   "outputs": [
    {
     "name": "stdout",
     "output_type": "stream",
     "text": [
      "Deploying face recognition model to Jetson Nano...\n",
      "scp: stat local \"../jetson_deployment/*\": No such file or directory\n",
      "Deployment complete!\n"
     ]
    }
   ],
   "source": [
    "!./jetson_deployment/deploy.sh"
   ]
  },
  {
   "cell_type": "code",
   "execution_count": null,
   "id": "365392b5-0d4c-4516-b691-51f13de2fdd9",
   "metadata": {},
   "outputs": [],
   "source": []
  }
 ],
 "metadata": {
  "kernelspec": {
   "display_name": "Python 3 (ipykernel)",
   "language": "python",
   "name": "python3"
  },
  "language_info": {
   "codemirror_mode": {
    "name": "ipython",
    "version": 3
   },
   "file_extension": ".py",
   "mimetype": "text/x-python",
   "name": "python",
   "nbconvert_exporter": "python",
   "pygments_lexer": "ipython3",
   "version": "3.12.6"
  }
 },
 "nbformat": 4,
 "nbformat_minor": 5
}
